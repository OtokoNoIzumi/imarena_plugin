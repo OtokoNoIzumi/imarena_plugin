{
 "cells": [
  {
   "cell_type": "code",
   "execution_count": null,
   "id": "c637d325-34cf-4f1e-8748-ab8b392bee1f",
   "metadata": {},
   "outputs": [],
   "source": [
    "# 检测 导出的app.py 文件\n",
    "file_path = \"../app.py\"\n",
    "!flake8 {file_path} --max-line-length=240\n",
    "!pylint {file_path}"
   ]
  },
  {
   "cell_type": "code",
   "execution_count": null,
   "id": "9df7bb3c",
   "metadata": {},
   "outputs": [],
   "source": [
    "%%writefile ..\\app.py\n",
    "\"\"\"\n",
    "项目初始化模板\n",
    "\n",
    "这个文件用于设置项目的基本配置，包括:\n",
    "1. 设置项目路径\n",
    "2. 加载环境变量\n",
    "3. 读取配置文件\n",
    "\n",
    "注意: 此文件可以通过notebook导出到app.py，也可以直接在notebook中运行\n",
    "\"\"\"\n",
    "import os\n",
    "import sys\n",
    "import json\n",
    "from dotenv import load_dotenv\n",
    "\n",
    "# ===== 初始化项目路径 =====\n",
    "# 根据运行环境(脚本或notebook)获取项目根目录\n",
    "if \"__file__\" in globals():\n",
    "    # 脚本环境: 使用文件的绝对路径\n",
    "    current_dir = os.path.dirname(os.path.abspath(__file__))\n",
    "    root_dir = os.path.normpath(os.path.join(current_dir, \"..\"))\n",
    "else:\n",
    "    # Jupyter Notebook环境: 使用当前工作目录\n",
    "    current_dir = os.getcwd()\n",
    "    current_dir = os.path.join(current_dir, \"..\")\n",
    "    root_dir = os.path.normpath(os.path.join(current_dir))\n",
    "\n",
    "# 规范化路径并添加到系统路径\n",
    "current_dir = os.path.normpath(current_dir)\n",
    "sys.path.append(current_dir)\n",
    "\n",
    "# 加载.env文件中的环境变量\n",
    "load_dotenv(dotenv_path=os.path.join(current_dir, \".env\"))\n",
    "\n",
    "# 加载项目配置文件\n",
    "with open(os.path.join(current_dir, \"config.json\"), encoding=\"utf-8\") as file:\n",
    "    config = json.load(file)\n"
   ]
  },
  {
   "cell_type": "code",
   "execution_count": null,
   "id": "81a070f9",
   "metadata": {},
   "outputs": [],
   "source": []
  }
 ],
 "metadata": {
  "kernelspec": {
   "display_name": "Python 3 (ipykernel)",
   "language": "python",
   "name": "python3"
  },
  "language_info": {
   "codemirror_mode": {
    "name": "ipython",
    "version": 3
   },
   "file_extension": ".py",
   "mimetype": "text/x-python",
   "name": "python",
   "nbconvert_exporter": "python",
   "pygments_lexer": "ipython3",
   "version": "3.11.9"
  }
 },
 "nbformat": 4,
 "nbformat_minor": 5
}
